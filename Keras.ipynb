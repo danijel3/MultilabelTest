{
 "cells": [
  {
   "cell_type": "markdown",
   "metadata": {},
   "source": [
    "Importing standard libraries (numpy, matplotlib)."
   ]
  },
  {
   "cell_type": "code",
   "execution_count": 1,
   "metadata": {
    "collapsed": false
   },
   "outputs": [
    {
     "name": "stdout",
     "output_type": "stream",
     "text": [
      "Populating the interactive namespace from numpy and matplotlib\n"
     ]
    }
   ],
   "source": [
    "%pylab inline"
   ]
  },
  {
   "cell_type": "markdown",
   "metadata": {},
   "source": [
    "## Loading data"
   ]
  },
  {
   "cell_type": "code",
   "execution_count": 2,
   "metadata": {
    "collapsed": true
   },
   "outputs": [],
   "source": [
    "#this method seems most robust with loading CSV data\n",
    "from pandas import read_csv\n",
    "\n",
    "data=read_csv('multi-label.csv') #load CSV\n",
    "num_samp=data.shape[0] #first dim -> number of samples in DB\n",
    "num_feat=data.shape[1] #second dim -> number of features per sample\n",
    "num_feat-=2 #remove first and last column from count"
   ]
  },
  {
   "cell_type": "code",
   "execution_count": 3,
   "metadata": {
    "collapsed": false
   },
   "outputs": [
    {
     "name": "stdout",
     "output_type": "stream",
     "text": [
      "Nuber of samples: 75\n",
      "Nuber of features: 97\n"
     ]
    }
   ],
   "source": [
    "print 'Nuber of samples: {}'.format(num_samp)\n",
    "print 'Nuber of features: {}'.format(num_feat)"
   ]
  },
  {
   "cell_type": "markdown",
   "metadata": {},
   "source": [
    "### Converting data for classification\n",
    "\n",
    "We need two matrices:\n",
    "\n",
    "  * input matrix - dimensions [num_samp x num_feat]\n",
    "  * output matrix - dimensions [num_samp x num_cls]"
   ]
  },
  {
   "cell_type": "code",
   "execution_count": 4,
   "metadata": {
    "collapsed": true
   },
   "outputs": [],
   "source": [
    "inp=data.ix[:,1:-1].as_matrix() #extract all values, except first (file name) and last (class)\n",
    "out_str=data.ix[:,-1].values.tolist() #extract class column only\n",
    "\n",
    "#convert list of class strings into list-of-lists\n",
    "out_lstr=[]\n",
    "for s in out_str:\n",
    "    out_lstr.append(s.split('+')) #split each string on '+' sign\n",
    "\n",
    "cls=sorted(set([i for j in out_lstr for i in j])) #sort and uniq all elements of the above list-of-lists\n",
    "num_cls=len(cls) #calculate number of classes\n",
    "cls_ind=dict(zip(cls,range(num_cls))) #create a map between class name -> class index\n",
    "\n",
    "#create a binary matrix of multilable classes\n",
    "out=np.zeros((num_samp,num_cls))\n",
    "for si in range(num_samp):\n",
    "    for c in out_lstr[si]:\n",
    "        out[si,cls_ind[c]]=1"
   ]
  },
  {
   "cell_type": "markdown",
   "metadata": {},
   "source": [
    "# Keras model\n",
    "\n",
    "This is a little GUI component to display a progress bar in Notebook."
   ]
  },
  {
   "cell_type": "code",
   "execution_count": 5,
   "metadata": {
    "collapsed": false
   },
   "outputs": [
    {
     "name": "stderr",
     "output_type": "stream",
     "text": [
      "Using TensorFlow backend.\n"
     ]
    }
   ],
   "source": [
    "from ipywidgets import IntProgress, HTML, VBox\n",
    "from IPython.display import display, SVG\n",
    "from keras.callbacks import Callback\n",
    "\n",
    "class NotebookProgress(Callback):\n",
    "    def on_train_begin(self, logs={}):\n",
    "        self.nb_epoch = self.params['nb_epoch']\n",
    "        self.progbar = IntProgress(min=0, max=self.nb_epoch, value=0)\n",
    "        self.label = HTML()\n",
    "        self.box = VBox(children=[self.progbar,self.label])\n",
    "        display(self.box)\n",
    "\n",
    "    def on_epoch_end(self, epoch, logs={}):                \n",
    "        self.progbar.value=epoch\n",
    "        self.label.value='Epoch {}/{}'.format(epoch,self.nb_epoch)\n",
    "        \n",
    "    def on_train_end(self,logs={}):\n",
    "        self.box.close()"
   ]
  },
  {
   "cell_type": "markdown",
   "metadata": {},
   "source": [
    "Here we define a simple model using Keras. It can easily be extended to any number of layers."
   ]
  },
  {
   "cell_type": "code",
   "execution_count": 6,
   "metadata": {
    "collapsed": false
   },
   "outputs": [],
   "source": [
    "from keras.models import Sequential\n",
    "from keras.layers import Dense\n",
    "from keras.optimizers import SGD\n",
    "\n",
    "feat_num=inp.shape[1]\n",
    "cls_num=out.shape[1]\n",
    "\n",
    "def make_model():\n",
    "    \n",
    "    #base class for most models in Keras\n",
    "    model = Sequential()\n",
    "\n",
    "    #this is a single layer model, ie. logistic regression\n",
    "#     model.add(Dense(input_dim=feat_num,output_dim=cls_num))\n",
    "\n",
    "    #this is a model with one hidden layer with 250 units\n",
    "    model.add(Dense(input_dim=feat_num,output_dim=250))\n",
    "    model.add(Dense(output_dim=cls_num))\n",
    "\n",
    "    #stochastic gradient descent optimizer with fairly low learning rate and no other params\n",
    "    sgd=SGD(lr=1e-6, momentum=0, decay=0, nesterov=False)\n",
    "\n",
    "    #main compilation method\n",
    "    #we use x-entropy loss function\n",
    "    model.compile(loss='categorical_crossentropy', optimizer=sgd, metrics=['accuracy'])\n",
    "    \n",
    "    return model"
   ]
  },
  {
   "cell_type": "markdown",
   "metadata": {},
   "source": [
    "We can also visualize the model using graph:"
   ]
  },
  {
   "cell_type": "code",
   "execution_count": 7,
   "metadata": {
    "collapsed": false
   },
   "outputs": [
    {
     "data": {
      "image/svg+xml": [
       "<svg height=\"221pt\" viewBox=\"0.00 0.00 302.00 221.00\" width=\"302pt\" xmlns=\"http://www.w3.org/2000/svg\" xmlns:xlink=\"http://www.w3.org/1999/xlink\">\n",
       "<g class=\"graph\" id=\"graph0\" transform=\"scale(1 1) rotate(0) translate(4 217)\">\n",
       "<title>G</title>\n",
       "<polygon fill=\"white\" points=\"-4,4 -4,-217 298,-217 298,4 -4,4\" stroke=\"none\"/>\n",
       "<!-- 140482673963472 -->\n",
       "<g class=\"node\" id=\"node1\"><title>140482673963472</title>\n",
       "<polygon fill=\"none\" points=\"0,-166.5 0,-212.5 294,-212.5 294,-166.5 0,-166.5\" stroke=\"black\"/>\n",
       "<text font-family=\"Times,serif\" font-size=\"14.00\" text-anchor=\"middle\" x=\"81.5\" y=\"-185.8\">dense_input_1: InputLayer</text>\n",
       "<polyline fill=\"none\" points=\"163,-166.5 163,-212.5 \" stroke=\"black\"/>\n",
       "<text font-family=\"Times,serif\" font-size=\"14.00\" text-anchor=\"middle\" x=\"190.5\" y=\"-197.3\">input:</text>\n",
       "<polyline fill=\"none\" points=\"163,-189.5 218,-189.5 \" stroke=\"black\"/>\n",
       "<text font-family=\"Times,serif\" font-size=\"14.00\" text-anchor=\"middle\" x=\"190.5\" y=\"-174.3\">output:</text>\n",
       "<polyline fill=\"none\" points=\"218,-166.5 218,-212.5 \" stroke=\"black\"/>\n",
       "<text font-family=\"Times,serif\" font-size=\"14.00\" text-anchor=\"middle\" x=\"256\" y=\"-197.3\">(None, 97)</text>\n",
       "<polyline fill=\"none\" points=\"218,-189.5 294,-189.5 \" stroke=\"black\"/>\n",
       "<text font-family=\"Times,serif\" font-size=\"14.00\" text-anchor=\"middle\" x=\"256\" y=\"-174.3\">(None, 97)</text>\n",
       "</g>\n",
       "<!-- 140483169833616 -->\n",
       "<g class=\"node\" id=\"node2\"><title>140483169833616</title>\n",
       "<polygon fill=\"none\" points=\"27,-83.5 27,-129.5 267,-129.5 267,-83.5 27,-83.5\" stroke=\"black\"/>\n",
       "<text font-family=\"Times,serif\" font-size=\"14.00\" text-anchor=\"middle\" x=\"78\" y=\"-102.8\">dense_1: Dense</text>\n",
       "<polyline fill=\"none\" points=\"129,-83.5 129,-129.5 \" stroke=\"black\"/>\n",
       "<text font-family=\"Times,serif\" font-size=\"14.00\" text-anchor=\"middle\" x=\"156.5\" y=\"-114.3\">input:</text>\n",
       "<polyline fill=\"none\" points=\"129,-106.5 184,-106.5 \" stroke=\"black\"/>\n",
       "<text font-family=\"Times,serif\" font-size=\"14.00\" text-anchor=\"middle\" x=\"156.5\" y=\"-91.3\">output:</text>\n",
       "<polyline fill=\"none\" points=\"184,-83.5 184,-129.5 \" stroke=\"black\"/>\n",
       "<text font-family=\"Times,serif\" font-size=\"14.00\" text-anchor=\"middle\" x=\"225.5\" y=\"-114.3\">(None, 97)</text>\n",
       "<polyline fill=\"none\" points=\"184,-106.5 267,-106.5 \" stroke=\"black\"/>\n",
       "<text font-family=\"Times,serif\" font-size=\"14.00\" text-anchor=\"middle\" x=\"225.5\" y=\"-91.3\">(None, 250)</text>\n",
       "</g>\n",
       "<!-- 140482673963472&#45;&gt;140483169833616 -->\n",
       "<g class=\"edge\" id=\"edge1\"><title>140482673963472-&gt;140483169833616</title>\n",
       "<path d=\"M147,-166.366C147,-158.152 147,-148.658 147,-139.725\" fill=\"none\" stroke=\"black\"/>\n",
       "<polygon fill=\"black\" points=\"150.5,-139.607 147,-129.607 143.5,-139.607 150.5,-139.607\" stroke=\"black\"/>\n",
       "</g>\n",
       "<!-- 140482673964176 -->\n",
       "<g class=\"node\" id=\"node3\"><title>140482673964176</title>\n",
       "<polygon fill=\"none\" points=\"27,-0.5 27,-46.5 267,-46.5 267,-0.5 27,-0.5\" stroke=\"black\"/>\n",
       "<text font-family=\"Times,serif\" font-size=\"14.00\" text-anchor=\"middle\" x=\"78\" y=\"-19.8\">dense_2: Dense</text>\n",
       "<polyline fill=\"none\" points=\"129,-0.5 129,-46.5 \" stroke=\"black\"/>\n",
       "<text font-family=\"Times,serif\" font-size=\"14.00\" text-anchor=\"middle\" x=\"156.5\" y=\"-31.3\">input:</text>\n",
       "<polyline fill=\"none\" points=\"129,-23.5 184,-23.5 \" stroke=\"black\"/>\n",
       "<text font-family=\"Times,serif\" font-size=\"14.00\" text-anchor=\"middle\" x=\"156.5\" y=\"-8.3\">output:</text>\n",
       "<polyline fill=\"none\" points=\"184,-0.5 184,-46.5 \" stroke=\"black\"/>\n",
       "<text font-family=\"Times,serif\" font-size=\"14.00\" text-anchor=\"middle\" x=\"225.5\" y=\"-31.3\">(None, 250)</text>\n",
       "<polyline fill=\"none\" points=\"184,-23.5 267,-23.5 \" stroke=\"black\"/>\n",
       "<text font-family=\"Times,serif\" font-size=\"14.00\" text-anchor=\"middle\" x=\"225.5\" y=\"-8.3\">(None, 7)</text>\n",
       "</g>\n",
       "<!-- 140483169833616&#45;&gt;140482673964176 -->\n",
       "<g class=\"edge\" id=\"edge2\"><title>140483169833616-&gt;140482673964176</title>\n",
       "<path d=\"M147,-83.3664C147,-75.1516 147,-65.6579 147,-56.7252\" fill=\"none\" stroke=\"black\"/>\n",
       "<polygon fill=\"black\" points=\"150.5,-56.6068 147,-46.6068 143.5,-56.6069 150.5,-56.6068\" stroke=\"black\"/>\n",
       "</g>\n",
       "</g>\n",
       "</svg>"
      ],
      "text/plain": [
       "<IPython.core.display.SVG object>"
      ]
     },
     "execution_count": 7,
     "metadata": {},
     "output_type": "execute_result"
    }
   ],
   "source": [
    "from keras.utils.visualize_util import model_to_dot\n",
    "\n",
    "SVG(model_to_dot(make_model(),show_shapes=True).create(prog='dot', format='svg'))"
   ]
  },
  {
   "cell_type": "markdown",
   "metadata": {},
   "source": [
    "This method is used to perform one full training run of the network. We use a constant number of epochs. If we had a validation set, we could also check and save only the best result per run, but here we save the last only."
   ]
  },
  {
   "cell_type": "code",
   "execution_count": 8,
   "metadata": {
    "collapsed": true
   },
   "outputs": [],
   "source": [
    "epoch_num=100\n",
    "\n",
    "def run(inp, out, tr_idx, tst_idx):\n",
    "    \n",
    "        #always recreate the model - in order to get a completely new network\n",
    "        model=make_model()\n",
    "        \n",
    "        #model training\n",
    "        history = model.fit(inp[tr_idx],out[tr_idx],batch_size=1, verbose=0, nb_epoch=epoch_num, callbacks=[NotebookProgress()])\n",
    "        \n",
    "        #model evaulation\n",
    "        metrics = model.evaluate(inp[tst_idx],out[tst_idx], batch_size=1, verbose=0)\n",
    "        \n",
    "        return metrics,history"
   ]
  },
  {
   "cell_type": "markdown",
   "metadata": {},
   "source": [
    "This is a demonstration of how to use the above method."
   ]
  },
  {
   "cell_type": "code",
   "execution_count": 9,
   "metadata": {
    "collapsed": false
   },
   "outputs": [
    {
     "name": "stdout",
     "output_type": "stream",
     "text": [
      "LOSS: 1.90157290455 ACC: 0.000000%\n"
     ]
    }
   ],
   "source": [
    "all=range(inp.shape[0]) #list of all data indices\n",
    "p=int(0.9*len(all)) #point at 90% of data\n",
    "tr_idx=all[:p] #indices 0-90% are training\n",
    "tst_idx=all[p:] #last 10% is test\n",
    "\n",
    "#do one training run\n",
    "metrics,history=run(inp,out,tr_idx,tst_idx)\n",
    "\n",
    "print 'LOSS: {} ACC: {:%}'.format(metrics[0],metrics[1])"
   ]
  },
  {
   "cell_type": "markdown",
   "metadata": {},
   "source": [
    "Here we draw the history of training of one full run."
   ]
  },
  {
   "cell_type": "code",
   "execution_count": 10,
   "metadata": {
    "collapsed": false
   },
   "outputs": [
    {
     "data": {
      "text/plain": [
       "<matplotlib.legend.Legend at 0x7fc4e42847d0>"
      ]
     },
     "execution_count": 10,
     "metadata": {},
     "output_type": "execute_result"
    },
    {
     "data": {
      "image/png": "[encoded data removed]",
      "text/plain": [
       "<matplotlib.figure.Figure at 0x7fc4e5169790>"
      ]
     },
     "metadata": {},
     "output_type": "display_data"
    }
   ],
   "source": [
    "loss=np.array(history.history['loss'])\n",
    "acc=np.array(history.history['acc'])\n",
    "\n",
    "p1=plot(loss,label='Train loss')\n",
    "xlabel('Epoch#')\n",
    "ax=twinx()\n",
    "p2=ax.plot(100*(1-acc),'r',label='Error%')\n",
    "ax.set_ylim(0,100)\n",
    "\n",
    "lines = [p1[0], p2[0]]\n",
    "legend(lines, [l.get_label() for l in lines],loc='upper left')"
   ]
  },
  {
   "cell_type": "markdown",
   "metadata": {},
   "source": [
    "## Cross validation\n",
    "\n",
    "Here we make a method for doing cross validation."
   ]
  },
  {
   "cell_type": "code",
   "execution_count": 11,
   "metadata": {
    "collapsed": false
   },
   "outputs": [],
   "source": [
    "from random import shuffle\n",
    "\n",
    "def cv(n_folds, inp, out):\n",
    "    \n",
    "    all_idx=range(inp.shape[0]) #prepare a list of all indices\n",
    "    shuffle(all_idx) #shuffle the list\n",
    "    \n",
    "    fold_len=len(all_idx)/n_folds #number of items in one fold\n",
    "    \n",
    "    #make a list of folds - each fold is a list of indices\n",
    "    folds=[]\n",
    "    for i in range(n_folds):\n",
    "        folds.append(all_idx[fold_len*i:fold_len*(i+1)])\n",
    "    if n_folds*fold_len<len(all_idx):\n",
    "        folds[-1].extend(all_idx[n_folds*fold_len:])\n",
    "    \n",
    "    #compute acc for all folds\n",
    "    acc=[]\n",
    "    for fold_idx in range(n_folds):\n",
    "        \n",
    "        #make train/test index lists for currrent fold\n",
    "        tst_idx=folds[fold_idx]\n",
    "        tr_idx=[]\n",
    "        for i in range(n_folds):\n",
    "            if i != fold_idx:\n",
    "                tr_idx.extend(folds[i])\n",
    "            \n",
    "        #do the run\n",
    "        met,hist = run(inp,out,tr_idx,tst_idx)\n",
    "        \n",
    "        print 'Fold {}/{} -> {:%}'.format(fold_idx+1,n_folds,met[1])\n",
    "        \n",
    "        acc.append(met[1])\n",
    "        \n",
    "    return np.array(acc)"
   ]
  },
  {
   "cell_type": "markdown",
   "metadata": {},
   "source": [
    "Perform actual 5-fold CV and compute the average accuracy."
   ]
  },
  {
   "cell_type": "code",
   "execution_count": 12,
   "metadata": {
    "collapsed": false
   },
   "outputs": [
    {
     "name": "stdout",
     "output_type": "stream",
     "text": [
      "Fold 1/5 -> 20.000000%\n",
      "Fold 2/5 -> 6.666667%\n",
      "Fold 3/5 -> 6.666667%\n",
      "Fold 4/5 -> 33.333333%\n",
      "Fold 5/5 -> 6.666667%\n",
      "Average CV ACC: 14.666667%\n"
     ]
    }
   ],
   "source": [
    "acc=cv(5,inp,out)\n",
    "print 'Average CV ACC: {:%}'.format(acc.mean())"
   ]
  },
  {
   "cell_type": "code",
   "execution_count": null,
   "metadata": {
    "collapsed": true
   },
   "outputs": [],
   "source": []
  }
 ],
 "metadata": {
  "kernelspec": {
   "display_name": "Python 2",
   "language": "python",
   "name": "python2"
  },
  "language_info": {
   "codemirror_mode": {
    "name": "ipython",
    "version": 2
   },
   "file_extension": ".py",
   "mimetype": "text/x-python",
   "name": "python",
   "nbconvert_exporter": "python",
   "pygments_lexer": "ipython2",
   "version": "2.7.12+"
  }
 },
 "nbformat": 4,
 "nbformat_minor": 1
}
