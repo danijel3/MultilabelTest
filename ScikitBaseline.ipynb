{
 "cells": [
  {
   "cell_type": "markdown",
   "metadata": {},
   "source": [
    "Importing standard libraries (numpy, matplotlib)."
   ]
  },
  {
   "cell_type": "code",
   "execution_count": 1,
   "metadata": {},
   "outputs": [
    {
     "name": "stdout",
     "output_type": "stream",
     "text": [
      "Populating the interactive namespace from numpy and matplotlib\n"
     ]
    }
   ],
   "source": [
    "%pylab inline"
   ]
  },
  {
   "cell_type": "markdown",
   "metadata": {},
   "source": [
    "## Loading data"
   ]
  },
  {
   "cell_type": "code",
   "execution_count": 2,
   "metadata": {},
   "outputs": [],
   "source": [
    "#this method seems most robust with loading CSV data\n",
    "from pandas import read_csv\n",
    "\n",
    "data=read_csv('multi-label.csv') #load CSV\n",
    "num_samp=data.shape[0] #first dim -> number of samples in DB\n",
    "num_feat=data.shape[1] #second dim -> number of features per sample\n",
    "num_feat-=2 #remove first and last column from count"
   ]
  },
  {
   "cell_type": "code",
   "execution_count": 3,
   "metadata": {},
   "outputs": [
    {
     "name": "stdout",
     "output_type": "stream",
     "text": [
      "Nuber of samples: 75\n",
      "Nuber of features: 97\n"
     ]
    }
   ],
   "source": [
    "print 'Nuber of samples: {}'.format(num_samp)\n",
    "print 'Nuber of features: {}'.format(num_feat)"
   ]
  },
  {
   "cell_type": "markdown",
   "metadata": {},
   "source": [
    "### Converting data for classification\n",
    "\n",
    "We need two matrices:\n",
    "\n",
    "  * input matrix - dimensions [num_samp x num_feat]\n",
    "  * output matrix - dimensions [num_samp x num_cls]"
   ]
  },
  {
   "cell_type": "code",
   "execution_count": 4,
   "metadata": {},
   "outputs": [],
   "source": [
    "inp=data.ix[:,1:-1].as_matrix() #extract all values, except first (file name) and last (class)\n",
    "out_str=data.ix[:,-1].values.tolist() #extract class column only\n",
    "\n",
    "#convert list of class strings into list-of-lists\n",
    "out_lstr=[]\n",
    "for s in out_str:\n",
    "    out_lstr.append(s.split('+')) #split each string on '+' sign\n",
    "\n",
    "cls=sorted(set([i for j in out_lstr for i in j])) #sort and uniq all elements of the above list-of-lists\n",
    "num_cls=len(cls) #calculate number of classes\n",
    "cls_ind=dict(zip(cls,range(num_cls))) #create a map between class name -> class index\n",
    "\n",
    "#create a binary matrix of multilable classes\n",
    "out=np.zeros((num_samp,num_cls))\n",
    "for si in range(num_samp):\n",
    "    for c in out_lstr[si]:\n",
    "        out[si,cls_ind[c]]=1"
   ]
  },
  {
   "cell_type": "markdown",
   "metadata": {},
   "source": [
    "## Toy sample set"
   ]
  },
  {
   "cell_type": "code",
   "execution_count": 5,
   "metadata": {},
   "outputs": [],
   "source": [
    "# from sklearn.datasets import make_multilabel_classification\n",
    "\n",
    "# inp, out = make_multilabel_classification(n_samples=77, n_features=20, n_classes=7, n_labels=2, allow_unlabeled=False, random_state=1)"
   ]
  },
  {
   "cell_type": "markdown",
   "metadata": {},
   "source": [
    "## Cross validation\n",
    "\n",
    "Since we have little data, we will use cross validation. Also, the experiment will be repeated several times to account for repeatability of the score."
   ]
  },
  {
   "cell_type": "code",
   "execution_count": 6,
   "metadata": {},
   "outputs": [],
   "source": [
    "from sklearn.model_selection import cross_val_score\n",
    "\n",
    "#run 'num' number of cross validation experiments with 'cv' folds and print mean/std on output\n",
    "def run(classifier,cv=7,num=10):\n",
    "    scores=[]\n",
    "    for i in range(num):\n",
    "        scores.append(cross_val_score(clf,inp,out,cv=cv))\n",
    "    scores=np.array(scores).flatten()\n",
    "    print 'ACC: {:%} (+/- {:%})'.format(scores.mean(),scores.std()*2)"
   ]
  },
  {
   "cell_type": "markdown",
   "metadata": {},
   "source": [
    "## Experiments\n",
    "\n",
    "### K-NN"
   ]
  },
  {
   "cell_type": "code",
   "execution_count": 7,
   "metadata": {},
   "outputs": [
    {
     "name": "stdout",
     "output_type": "stream",
     "text": [
      "ACC: 4.155844% (+/- 14.377509%)\n"
     ]
    }
   ],
   "source": [
    "from sklearn.neighbors import KNeighborsClassifier\n",
    "\n",
    "clf = KNeighborsClassifier(n_neighbors=3)\n",
    "run(clf)"
   ]
  },
  {
   "cell_type": "markdown",
   "metadata": {},
   "source": [
    "### Decision tree"
   ]
  },
  {
   "cell_type": "code",
   "execution_count": 8,
   "metadata": {},
   "outputs": [
    {
     "name": "stdout",
     "output_type": "stream",
     "text": [
      "ACC: 7.766234% (+/- 20.569658%)\n"
     ]
    }
   ],
   "source": [
    "from sklearn.tree import DecisionTreeClassifier\n",
    "\n",
    "clf = DecisionTreeClassifier()\n",
    "run(clf)"
   ]
  },
  {
   "cell_type": "markdown",
   "metadata": {},
   "source": [
    "StandardScaler is used to normalize the input data -> make all features (independently) have zero mean and unit variance across all (training) samples. "
   ]
  },
  {
   "cell_type": "code",
   "execution_count": 9,
   "metadata": {},
   "outputs": [
    {
     "name": "stdout",
     "output_type": "stream",
     "text": [
      "ACC: 6.714286% (+/- 17.957822%)\n"
     ]
    }
   ],
   "source": [
    "from sklearn.pipeline import make_pipeline\n",
    "from sklearn.preprocessing import StandardScaler\n",
    "\n",
    "clf = make_pipeline(StandardScaler(), DecisionTreeClassifier())\n",
    "run(clf)"
   ]
  },
  {
   "cell_type": "code",
   "execution_count": 10,
   "metadata": {},
   "outputs": [
    {
     "name": "stdout",
     "output_type": "stream",
     "text": [
      "ACC: 6.870130% (+/- 17.378720%)\n"
     ]
    }
   ],
   "source": [
    "from sklearn.decomposition import PCA\n",
    "\n",
    "clf = make_pipeline(PCA(), DecisionTreeClassifier())\n",
    "run(clf)"
   ]
  },
  {
   "cell_type": "markdown",
   "metadata": {},
   "source": [
    "### Random forest"
   ]
  },
  {
   "cell_type": "code",
   "execution_count": 11,
   "metadata": {},
   "outputs": [
    {
     "name": "stdout",
     "output_type": "stream",
     "text": [
      "ACC: 4.090909% (+/- 14.463242%)\n"
     ]
    }
   ],
   "source": [
    "from sklearn.ensemble import RandomForestClassifier\n",
    "\n",
    "clf = RandomForestClassifier()\n",
    "run(clf)"
   ]
  },
  {
   "cell_type": "markdown",
   "metadata": {},
   "source": [
    "### MLP"
   ]
  },
  {
   "cell_type": "code",
   "execution_count": 12,
   "metadata": {},
   "outputs": [
    {
     "name": "stdout",
     "output_type": "stream",
     "text": [
      "ACC: 2.636364% (+/- 13.039401%)\n"
     ]
    }
   ],
   "source": [
    "from sklearn.neural_network import MLPClassifier\n",
    "\n",
    "clf = MLPClassifier()\n",
    "run(clf)"
   ]
  },
  {
   "cell_type": "markdown",
   "metadata": {},
   "source": [
    "### SVM\n",
    "\n",
    "This one doesn't support multi-label by default, but we can use 1-vs-rest strategy to get around this limitation."
   ]
  },
  {
   "cell_type": "code",
   "execution_count": 13,
   "metadata": {},
   "outputs": [
    {
     "name": "stderr",
     "output_type": "stream",
     "text": [
      "/home/pjwstk.edu.pl/danijel/python_venv/venv1/lib/python2.7/site-packages/sklearn/multiclass.py:76: UserWarning: Label not 6 is present in all training examples.\n",
      "  str(classes[c]))\n"
     ]
    },
    {
     "name": "stdout",
     "output_type": "stream",
     "text": [
      "ACC: 0.000000% (+/- 0.000000%)\n"
     ]
    }
   ],
   "source": [
    "from sklearn.multiclass import OneVsRestClassifier\n",
    "from sklearn.svm import SVC\n",
    "\n",
    "clf = OneVsRestClassifier(SVC())\n",
    "run(clf)"
   ]
  },
  {
   "cell_type": "code",
   "execution_count": null,
   "metadata": {},
   "outputs": [],
   "source": []
  }
 ],
 "metadata": {
  "kernelspec": {
   "display_name": "Python 2",
   "language": "python",
   "name": "python2"
  },
  "language_info": {
   "codemirror_mode": {
    "name": "ipython",
    "version": 2
   },
   "file_extension": ".py",
   "mimetype": "text/x-python",
   "name": "python",
   "nbconvert_exporter": "python",
   "pygments_lexer": "ipython2",
   "version": "2.7.5"
  }
 },
 "nbformat": 4,
 "nbformat_minor": 1
}
